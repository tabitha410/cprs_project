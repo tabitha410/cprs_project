{
 "cells": [
  {
   "cell_type": "code",
   "execution_count": 23,
   "id": "b15a4405",
   "metadata": {},
   "outputs": [],
   "source": [
    "# Import the necessary libraries\n",
    "import pandas as pd\n",
    "import numpy as np\n",
    "import pickle\n",
    "from sklearn.ensemble import RandomForestClassifier\n",
    "from sklearn.preprocessing import LabelEncoder\n",
    "from sklearn.model_selection import train_test_split, cross_val_score, StratifiedKFold\n",
    "from sklearn.metrics import accuracy_score, classification_report\n",
    "from imblearn.over_sampling import RandomOverSampler\n",
    "from imblearn.pipeline import Pipeline\n",
    "import warnings\n",
    "warnings.filterwarnings(\"ignore\", category=UserWarning)"
   ]
  },
  {
   "cell_type": "code",
   "execution_count": 24,
   "id": "68a35dcd",
   "metadata": {},
   "outputs": [
    {
     "data": {
      "text/html": [
       "<div>\n",
       "<style scoped>\n",
       "    .dataframe tbody tr th:only-of-type {\n",
       "        vertical-align: middle;\n",
       "    }\n",
       "\n",
       "    .dataframe tbody tr th {\n",
       "        vertical-align: top;\n",
       "    }\n",
       "\n",
       "    .dataframe thead th {\n",
       "        text-align: right;\n",
       "    }\n",
       "</style>\n",
       "<table border=\"1\" class=\"dataframe\">\n",
       "  <thead>\n",
       "    <tr style=\"text-align: right;\">\n",
       "      <th></th>\n",
       "      <th>Student ID</th>\n",
       "      <th>Name</th>\n",
       "      <th>Gender</th>\n",
       "      <th>Age</th>\n",
       "      <th>GPA</th>\n",
       "      <th>Major</th>\n",
       "      <th>Interested Domain</th>\n",
       "      <th>Projects</th>\n",
       "      <th>Future Career</th>\n",
       "      <th>Python</th>\n",
       "      <th>SQL</th>\n",
       "      <th>Java</th>\n",
       "    </tr>\n",
       "  </thead>\n",
       "  <tbody>\n",
       "    <tr>\n",
       "      <th>0</th>\n",
       "      <td>1</td>\n",
       "      <td>John Smith</td>\n",
       "      <td>Male</td>\n",
       "      <td>21</td>\n",
       "      <td>3.5</td>\n",
       "      <td>Computer Science</td>\n",
       "      <td>Artificial Intelligence</td>\n",
       "      <td>Chatbot Development</td>\n",
       "      <td>Machine Learning Researcher</td>\n",
       "      <td>Strong</td>\n",
       "      <td>Strong</td>\n",
       "      <td>Weak</td>\n",
       "    </tr>\n",
       "    <tr>\n",
       "      <th>1</th>\n",
       "      <td>2</td>\n",
       "      <td>Alice Johnson</td>\n",
       "      <td>Female</td>\n",
       "      <td>20</td>\n",
       "      <td>3.2</td>\n",
       "      <td>Computer Science</td>\n",
       "      <td>Data Science</td>\n",
       "      <td>Data Analytics</td>\n",
       "      <td>Data Scientist</td>\n",
       "      <td>Average</td>\n",
       "      <td>Strong</td>\n",
       "      <td>Weak</td>\n",
       "    </tr>\n",
       "    <tr>\n",
       "      <th>2</th>\n",
       "      <td>3</td>\n",
       "      <td>Robert Davis</td>\n",
       "      <td>Male</td>\n",
       "      <td>22</td>\n",
       "      <td>3.8</td>\n",
       "      <td>Computer Science</td>\n",
       "      <td>Software Development</td>\n",
       "      <td>E-commerce Website</td>\n",
       "      <td>Software Engineer</td>\n",
       "      <td>Strong</td>\n",
       "      <td>Strong</td>\n",
       "      <td>Average</td>\n",
       "    </tr>\n",
       "    <tr>\n",
       "      <th>3</th>\n",
       "      <td>4</td>\n",
       "      <td>Emily Wilson</td>\n",
       "      <td>Female</td>\n",
       "      <td>21</td>\n",
       "      <td>3.7</td>\n",
       "      <td>Computer Science</td>\n",
       "      <td>Web Development</td>\n",
       "      <td>Full-Stack Web App</td>\n",
       "      <td>Web Developer</td>\n",
       "      <td>Weak</td>\n",
       "      <td>Strong</td>\n",
       "      <td>Strong</td>\n",
       "    </tr>\n",
       "    <tr>\n",
       "      <th>4</th>\n",
       "      <td>5</td>\n",
       "      <td>Michael Brown</td>\n",
       "      <td>Male</td>\n",
       "      <td>23</td>\n",
       "      <td>3.4</td>\n",
       "      <td>Computer Science</td>\n",
       "      <td>Cybersecurity</td>\n",
       "      <td>Network Security</td>\n",
       "      <td>Information Security Analyst</td>\n",
       "      <td>Average</td>\n",
       "      <td>Weak</td>\n",
       "      <td>Strong</td>\n",
       "    </tr>\n",
       "  </tbody>\n",
       "</table>\n",
       "</div>"
      ],
      "text/plain": [
       "   Student ID           Name  Gender  Age  GPA             Major  \\\n",
       "0           1     John Smith    Male   21  3.5  Computer Science   \n",
       "1           2  Alice Johnson  Female   20  3.2  Computer Science   \n",
       "2           3   Robert Davis    Male   22  3.8  Computer Science   \n",
       "3           4   Emily Wilson  Female   21  3.7  Computer Science   \n",
       "4           5  Michael Brown    Male   23  3.4  Computer Science   \n",
       "\n",
       "         Interested Domain             Projects                 Future Career  \\\n",
       "0  Artificial Intelligence  Chatbot Development   Machine Learning Researcher   \n",
       "1             Data Science       Data Analytics                Data Scientist   \n",
       "2     Software Development   E-commerce Website             Software Engineer   \n",
       "3          Web Development   Full-Stack Web App                 Web Developer   \n",
       "4            Cybersecurity     Network Security  Information Security Analyst   \n",
       "\n",
       "    Python     SQL     Java  \n",
       "0   Strong  Strong     Weak  \n",
       "1  Average  Strong     Weak  \n",
       "2   Strong  Strong  Average  \n",
       "3     Weak  Strong   Strong  \n",
       "4  Average    Weak   Strong  "
      ]
     },
     "execution_count": 24,
     "metadata": {},
     "output_type": "execute_result"
    }
   ],
   "source": [
    "# Load the dataset\n",
    "df = pd.read_csv(\"cs_students.csv\")\n",
    "df.head()"
   ]
  },
  {
   "cell_type": "code",
   "execution_count": 25,
   "id": "9a02772e",
   "metadata": {},
   "outputs": [
    {
     "data": {
      "text/html": [
       "<div>\n",
       "<style scoped>\n",
       "    .dataframe tbody tr th:only-of-type {\n",
       "        vertical-align: middle;\n",
       "    }\n",
       "\n",
       "    .dataframe tbody tr th {\n",
       "        vertical-align: top;\n",
       "    }\n",
       "\n",
       "    .dataframe thead th {\n",
       "        text-align: right;\n",
       "    }\n",
       "</style>\n",
       "<table border=\"1\" class=\"dataframe\">\n",
       "  <thead>\n",
       "    <tr style=\"text-align: right;\">\n",
       "      <th></th>\n",
       "      <th>Gender</th>\n",
       "      <th>Age</th>\n",
       "      <th>GPA</th>\n",
       "      <th>Major</th>\n",
       "      <th>Interested Domain</th>\n",
       "      <th>Projects</th>\n",
       "      <th>Future Career</th>\n",
       "      <th>Python</th>\n",
       "      <th>SQL</th>\n",
       "      <th>Java</th>\n",
       "    </tr>\n",
       "  </thead>\n",
       "  <tbody>\n",
       "    <tr>\n",
       "      <th>0</th>\n",
       "      <td>Male</td>\n",
       "      <td>21</td>\n",
       "      <td>3.5</td>\n",
       "      <td>Computer Science</td>\n",
       "      <td>Artificial Intelligence</td>\n",
       "      <td>Chatbot Development</td>\n",
       "      <td>Machine Learning Researcher</td>\n",
       "      <td>Strong</td>\n",
       "      <td>Strong</td>\n",
       "      <td>Weak</td>\n",
       "    </tr>\n",
       "    <tr>\n",
       "      <th>1</th>\n",
       "      <td>Female</td>\n",
       "      <td>20</td>\n",
       "      <td>3.2</td>\n",
       "      <td>Computer Science</td>\n",
       "      <td>Data Science</td>\n",
       "      <td>Data Analytics</td>\n",
       "      <td>Data Scientist</td>\n",
       "      <td>Average</td>\n",
       "      <td>Strong</td>\n",
       "      <td>Weak</td>\n",
       "    </tr>\n",
       "    <tr>\n",
       "      <th>2</th>\n",
       "      <td>Male</td>\n",
       "      <td>22</td>\n",
       "      <td>3.8</td>\n",
       "      <td>Computer Science</td>\n",
       "      <td>Software Development</td>\n",
       "      <td>E-commerce Website</td>\n",
       "      <td>Software Engineer</td>\n",
       "      <td>Strong</td>\n",
       "      <td>Strong</td>\n",
       "      <td>Average</td>\n",
       "    </tr>\n",
       "    <tr>\n",
       "      <th>3</th>\n",
       "      <td>Female</td>\n",
       "      <td>21</td>\n",
       "      <td>3.7</td>\n",
       "      <td>Computer Science</td>\n",
       "      <td>Web Development</td>\n",
       "      <td>Full-Stack Web App</td>\n",
       "      <td>Web Developer</td>\n",
       "      <td>Weak</td>\n",
       "      <td>Strong</td>\n",
       "      <td>Strong</td>\n",
       "    </tr>\n",
       "    <tr>\n",
       "      <th>4</th>\n",
       "      <td>Male</td>\n",
       "      <td>23</td>\n",
       "      <td>3.4</td>\n",
       "      <td>Computer Science</td>\n",
       "      <td>Cybersecurity</td>\n",
       "      <td>Network Security</td>\n",
       "      <td>Information Security Analyst</td>\n",
       "      <td>Average</td>\n",
       "      <td>Weak</td>\n",
       "      <td>Strong</td>\n",
       "    </tr>\n",
       "  </tbody>\n",
       "</table>\n",
       "</div>"
      ],
      "text/plain": [
       "   Gender  Age  GPA             Major        Interested Domain  \\\n",
       "0    Male   21  3.5  Computer Science  Artificial Intelligence   \n",
       "1  Female   20  3.2  Computer Science             Data Science   \n",
       "2    Male   22  3.8  Computer Science     Software Development   \n",
       "3  Female   21  3.7  Computer Science          Web Development   \n",
       "4    Male   23  3.4  Computer Science            Cybersecurity   \n",
       "\n",
       "              Projects                 Future Career   Python     SQL     Java  \n",
       "0  Chatbot Development   Machine Learning Researcher   Strong  Strong     Weak  \n",
       "1       Data Analytics                Data Scientist  Average  Strong     Weak  \n",
       "2   E-commerce Website             Software Engineer   Strong  Strong  Average  \n",
       "3   Full-Stack Web App                 Web Developer     Weak  Strong   Strong  \n",
       "4     Network Security  Information Security Analyst  Average    Weak   Strong  "
      ]
     },
     "execution_count": 25,
     "metadata": {},
     "output_type": "execute_result"
    }
   ],
   "source": [
    "# Clean the dataset\n",
    "df = df.drop(columns=[\"Student ID\", \"Name\"])\n",
    "df.head()"
   ]
  },
  {
   "cell_type": "code",
   "execution_count": 26,
   "id": "1261db42",
   "metadata": {},
   "outputs": [],
   "source": [
    "# Encode categorical features\n",
    "label_encoders = {}\n",
    "for col in df.drop(columns=[\"Future Career\"]).select_dtypes(include=['object']).columns:\n",
    "    le = LabelEncoder()\n",
    "    df[col] = le.fit_transform(df[col])\n",
    "    label_encoders[col] = le"
   ]
  },
  {
   "cell_type": "code",
   "execution_count": 27,
   "id": "0cdfcb2a",
   "metadata": {},
   "outputs": [],
   "source": [
    "# Encode and filter the target variable\n",
    "original_labels = df[\"Future Career\"].copy()\n",
    "target_encoder = LabelEncoder()\n",
    "df[\"Future Career\"] = target_encoder.fit_transform(original_labels)\n",
    "\n",
    "class_counts = df[\"Future Career\"].value_counts()\n",
    "valid_classes = class_counts[class_counts > 1].index\n",
    "df = df[df[\"Future Career\"].isin(valid_classes)]\n",
    "\n",
    "filtered_labels = original_labels[df.index]\n",
    "target_encoder = LabelEncoder()\n",
    "df[\"Future Career\"] = target_encoder.fit_transform(filtered_labels)"
   ]
  },
  {
   "cell_type": "code",
   "execution_count": 28,
   "id": "b98a7ee4",
   "metadata": {},
   "outputs": [],
   "source": [
    "# Split features and target\n",
    "X = df.drop(columns=[\"Future Career\"])\n",
    "y = df[\"Future Career\"]"
   ]
  },
  {
   "cell_type": "code",
   "execution_count": 29,
   "id": "99fb7965",
   "metadata": {},
   "outputs": [
    {
     "name": "stdout",
     "output_type": "stream",
     "text": [
      "Top 7 features: ['Interested Domain', 'Projects', 'GPA', 'Python', 'SQL', 'Age', 'Java']\n"
     ]
    }
   ],
   "source": [
    "# Select the top 7 most important features\n",
    "rf_temp = RandomForestClassifier(n_estimators=100, random_state=42, class_weight='balanced')\n",
    "rf_temp.fit(X, y)\n",
    "importances = pd.Series(rf_temp.feature_importances_, index=X.columns).sort_values(ascending=False)\n",
    "top_features = importances.head(7).index.tolist()\n",
    "print(\"Top 7 features:\", top_features)"
   ]
  },
  {
   "cell_type": "code",
   "execution_count": 30,
   "id": "751555ef",
   "metadata": {},
   "outputs": [
    {
     "name": "stdout",
     "output_type": "stream",
     "text": [
      "Top features: ['Interested Domain', 'Projects', 'GPA', 'Python', 'SQL', 'Java']\n"
     ]
    }
   ],
   "source": [
    "# Exclude 'Age' to prevent bias in recommendations\n",
    "top_features.remove('Age')\n",
    "print(\"Top features:\", top_features)"
   ]
  },
  {
   "cell_type": "code",
   "execution_count": 31,
   "id": "c255db58",
   "metadata": {},
   "outputs": [],
   "source": [
    "# Split the dataset into training and testing sets using stratified sampling\n",
    "X_train, X_test, y_train, y_test = train_test_split(\n",
    "    df[top_features], y, test_size=0.2, random_state=42, stratify=y\n",
    ")"
   ]
  },
  {
   "cell_type": "code",
   "execution_count": 32,
   "id": "225f050d",
   "metadata": {},
   "outputs": [],
   "source": [
    "# Handle class imbalance with oversampling\n",
    "ros = RandomOverSampler(random_state=42)\n",
    "X_train_resampled, y_train_resampled = ros.fit_resample(X_train, y_train)"
   ]
  },
  {
   "cell_type": "code",
   "execution_count": 33,
   "id": "8a88e097",
   "metadata": {},
   "outputs": [
    {
     "data": {
      "text/html": [
       "<style>#sk-container-id-2 {color: black;}#sk-container-id-2 pre{padding: 0;}#sk-container-id-2 div.sk-toggleable {background-color: white;}#sk-container-id-2 label.sk-toggleable__label {cursor: pointer;display: block;width: 100%;margin-bottom: 0;padding: 0.3em;box-sizing: border-box;text-align: center;}#sk-container-id-2 label.sk-toggleable__label-arrow:before {content: \"▸\";float: left;margin-right: 0.25em;color: #696969;}#sk-container-id-2 label.sk-toggleable__label-arrow:hover:before {color: black;}#sk-container-id-2 div.sk-estimator:hover label.sk-toggleable__label-arrow:before {color: black;}#sk-container-id-2 div.sk-toggleable__content {max-height: 0;max-width: 0;overflow: hidden;text-align: left;background-color: #f0f8ff;}#sk-container-id-2 div.sk-toggleable__content pre {margin: 0.2em;color: black;border-radius: 0.25em;background-color: #f0f8ff;}#sk-container-id-2 input.sk-toggleable__control:checked~div.sk-toggleable__content {max-height: 200px;max-width: 100%;overflow: auto;}#sk-container-id-2 input.sk-toggleable__control:checked~label.sk-toggleable__label-arrow:before {content: \"▾\";}#sk-container-id-2 div.sk-estimator input.sk-toggleable__control:checked~label.sk-toggleable__label {background-color: #d4ebff;}#sk-container-id-2 div.sk-label input.sk-toggleable__control:checked~label.sk-toggleable__label {background-color: #d4ebff;}#sk-container-id-2 input.sk-hidden--visually {border: 0;clip: rect(1px 1px 1px 1px);clip: rect(1px, 1px, 1px, 1px);height: 1px;margin: -1px;overflow: hidden;padding: 0;position: absolute;width: 1px;}#sk-container-id-2 div.sk-estimator {font-family: monospace;background-color: #f0f8ff;border: 1px dotted black;border-radius: 0.25em;box-sizing: border-box;margin-bottom: 0.5em;}#sk-container-id-2 div.sk-estimator:hover {background-color: #d4ebff;}#sk-container-id-2 div.sk-parallel-item::after {content: \"\";width: 100%;border-bottom: 1px solid gray;flex-grow: 1;}#sk-container-id-2 div.sk-label:hover label.sk-toggleable__label {background-color: #d4ebff;}#sk-container-id-2 div.sk-serial::before {content: \"\";position: absolute;border-left: 1px solid gray;box-sizing: border-box;top: 0;bottom: 0;left: 50%;z-index: 0;}#sk-container-id-2 div.sk-serial {display: flex;flex-direction: column;align-items: center;background-color: white;padding-right: 0.2em;padding-left: 0.2em;position: relative;}#sk-container-id-2 div.sk-item {position: relative;z-index: 1;}#sk-container-id-2 div.sk-parallel {display: flex;align-items: stretch;justify-content: center;background-color: white;position: relative;}#sk-container-id-2 div.sk-item::before, #sk-container-id-2 div.sk-parallel-item::before {content: \"\";position: absolute;border-left: 1px solid gray;box-sizing: border-box;top: 0;bottom: 0;left: 50%;z-index: -1;}#sk-container-id-2 div.sk-parallel-item {display: flex;flex-direction: column;z-index: 1;position: relative;background-color: white;}#sk-container-id-2 div.sk-parallel-item:first-child::after {align-self: flex-end;width: 50%;}#sk-container-id-2 div.sk-parallel-item:last-child::after {align-self: flex-start;width: 50%;}#sk-container-id-2 div.sk-parallel-item:only-child::after {width: 0;}#sk-container-id-2 div.sk-dashed-wrapped {border: 1px dashed gray;margin: 0 0.4em 0.5em 0.4em;box-sizing: border-box;padding-bottom: 0.4em;background-color: white;}#sk-container-id-2 div.sk-label label {font-family: monospace;font-weight: bold;display: inline-block;line-height: 1.2em;}#sk-container-id-2 div.sk-label-container {text-align: center;}#sk-container-id-2 div.sk-container {/* jupyter's `normalize.less` sets `[hidden] { display: none; }` but bootstrap.min.css set `[hidden] { display: none !important; }` so we also need the `!important` here to be able to override the default hidden behavior on the sphinx rendered scikit-learn.org. See: https://github.com/scikit-learn/scikit-learn/issues/21755 */display: inline-block !important;position: relative;}#sk-container-id-2 div.sk-text-repr-fallback {display: none;}</style><div id=\"sk-container-id-2\" class=\"sk-top-container\"><div class=\"sk-text-repr-fallback\"><pre>RandomForestClassifier(class_weight=&#x27;balanced&#x27;, min_samples_leaf=10,\n",
       "                       min_samples_split=10, random_state=42)</pre><b>In a Jupyter environment, please rerun this cell to show the HTML representation or trust the notebook. <br />On GitHub, the HTML representation is unable to render, please try loading this page with nbviewer.org.</b></div><div class=\"sk-container\" hidden><div class=\"sk-item\"><div class=\"sk-estimator sk-toggleable\"><input class=\"sk-toggleable__control sk-hidden--visually\" id=\"sk-estimator-id-2\" type=\"checkbox\" checked><label for=\"sk-estimator-id-2\" class=\"sk-toggleable__label sk-toggleable__label-arrow\">RandomForestClassifier</label><div class=\"sk-toggleable__content\"><pre>RandomForestClassifier(class_weight=&#x27;balanced&#x27;, min_samples_leaf=10,\n",
       "                       min_samples_split=10, random_state=42)</pre></div></div></div></div></div>"
      ],
      "text/plain": [
       "RandomForestClassifier(class_weight='balanced', min_samples_leaf=10,\n",
       "                       min_samples_split=10, random_state=42)"
      ]
     },
     "execution_count": 33,
     "metadata": {},
     "output_type": "execute_result"
    }
   ],
   "source": [
    "# Train the Random Forest model\n",
    "model = RandomForestClassifier(\n",
    "    n_estimators=100,\n",
    "    min_samples_split=10,\n",
    "    min_samples_leaf=10,\n",
    "    random_state=42, \n",
    "    class_weight='balanced'\n",
    ")\n",
    "model.fit(X_train_resampled, y_train_resampled)"
   ]
  },
  {
   "cell_type": "code",
   "execution_count": 34,
   "id": "7f99a317",
   "metadata": {},
   "outputs": [
    {
     "name": "stdout",
     "output_type": "stream",
     "text": [
      "\n",
      "Train Accuracy: 0.96\n",
      "Test Accuracy: 0.94\n"
     ]
    }
   ],
   "source": [
    "# Evaluate model accuracy\n",
    "train_acc = accuracy_score(y_train_resampled, model.predict(X_train_resampled))\n",
    "test_acc = accuracy_score(y_test, model.predict(X_test))\n",
    "\n",
    "print(f\"\\nTrain Accuracy: {train_acc:.2f}\")\n",
    "print(f\"Test Accuracy: {test_acc:.2f}\")"
   ]
  },
  {
   "cell_type": "code",
   "execution_count": 35,
   "id": "5319c69a",
   "metadata": {},
   "outputs": [
    {
     "name": "stdout",
     "output_type": "stream",
     "text": [
      "\n",
      "Classification Report:\n",
      "                              precision    recall  f1-score   support\n",
      "\n",
      "               AI Researcher       1.00      1.00      1.00         1\n",
      "   Cloud Solutions Architect       1.00      1.00      1.00         3\n",
      "                Data Analyst       1.00      1.00      1.00         1\n",
      "              Data Scientist       1.00      1.00      1.00         2\n",
      "      Database Administrator       1.00      1.00      1.00         3\n",
      "              Game Developer       0.00      0.00      0.00         1\n",
      "         Graphics Programmer       1.00      1.00      1.00         2\n",
      "Information Security Analyst       1.00      0.75      0.86         4\n",
      "   Machine Learning Engineer       1.00      1.00      1.00         3\n",
      "        Mobile App Developer       1.00      1.00      1.00         4\n",
      "      NLP Research Scientist       1.00      1.00      1.00         2\n",
      "           Software Engineer       1.00      1.00      1.00         3\n",
      "               Web Developer       1.00      1.00      1.00         4\n",
      "\n",
      "                   micro avg       1.00      0.94      0.97        33\n",
      "                   macro avg       0.92      0.90      0.91        33\n",
      "                weighted avg       0.97      0.94      0.95        33\n",
      "\n"
     ]
    }
   ],
   "source": [
    "# Model evaluation using the evaluation metrics\n",
    "y_pred = model.predict(X_test)\n",
    "used_labels = np.array(sorted(set(y_test))) \n",
    "target_names = target_encoder.inverse_transform(used_labels)\n",
    "\n",
    "print(\"\\nClassification Report:\")\n",
    "print(classification_report(y_test, y_pred, labels=used_labels, target_names=target_names, zero_division=0))"
   ]
  },
  {
   "cell_type": "code",
   "execution_count": 36,
   "id": "3f186274",
   "metadata": {},
   "outputs": [
    {
     "name": "stdout",
     "output_type": "stream",
     "text": [
      "\n",
      "Cross-Validation Scores (Stratified 5-fold, with oversampling):\n",
      "Scores per fold: [0.8182], [1.0000], [0.9091], [0.9394], [0.8750]\n",
      "Mean CV Accuracy: 0.91 ± 0.06\n"
     ]
    }
   ],
   "source": [
    "# Evaluate how the model generalizes to different parts of the dataset using cross-validation accuracy\n",
    "print(\"\\nCross-Validation Scores (Stratified 5-fold, with oversampling):\")\n",
    "cv_pipeline = Pipeline([\n",
    "    ('oversample', RandomOverSampler(random_state=42)),\n",
    "    ('classifier', RandomForestClassifier(n_estimators=100, random_state=42))\n",
    "])\n",
    "\n",
    "cv = StratifiedKFold(n_splits=5, shuffle=True, random_state=42)\n",
    "cv_scores = cross_val_score(cv_pipeline, df[top_features], y, cv=cv)\n",
    "\n",
    "print(\"Scores per fold: \" + \", \".join([\"[{:.4f}]\".format(score) for score in cv_scores]))\n",
    "print(\"Mean CV Accuracy: {:.2f} ± {:.2f}\".format(cv_scores.mean(), cv_scores.std()))"
   ]
  },
  {
   "cell_type": "code",
   "execution_count": 37,
   "id": "2dbda72c",
   "metadata": {},
   "outputs": [],
   "source": [
    "# Save the trained Random Forest model and encoders\n",
    "with open(\"cprs_model.pkl\", \"wb\") as f:\n",
    "    pickle.dump(model, f)\n",
    "    \n",
    "with open(\"label_encoders.pkl\", \"wb\") as f:\n",
    "    pickle.dump(label_encoders, f)\n",
    "\n",
    "with open(\"target_encoder.pkl\", \"wb\") as f:\n",
    "    pickle.dump(target_encoder, f)"
   ]
  },
  {
   "cell_type": "code",
   "execution_count": 38,
   "id": "7f20b0d4",
   "metadata": {},
   "outputs": [],
   "source": [
    "# top_features list\n",
    "with open(\"top_features.pkl\", \"wb\") as f:\n",
    "    pickle.dump(top_features, f)\n",
    "\n",
    "# Save X_train_resampled for LIME\n",
    "with open(\"X_train_resampled.pkl\", \"wb\") as f:\n",
    "    pickle.dump(X_train_resampled, f)"
   ]
  },
  {
   "cell_type": "code",
   "execution_count": null,
   "id": "898ba3d9",
   "metadata": {},
   "outputs": [],
   "source": []
  }
 ],
 "metadata": {
  "kernelspec": {
   "display_name": "Python 3 (ipykernel)",
   "language": "python",
   "name": "python3"
  },
  "language_info": {
   "codemirror_mode": {
    "name": "ipython",
    "version": 3
   },
   "file_extension": ".py",
   "mimetype": "text/x-python",
   "name": "python",
   "nbconvert_exporter": "python",
   "pygments_lexer": "ipython3",
   "version": "3.11.3"
  }
 },
 "nbformat": 4,
 "nbformat_minor": 5
}
